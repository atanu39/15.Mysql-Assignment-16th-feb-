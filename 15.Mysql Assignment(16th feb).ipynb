{
 "cells": [
  {
   "cell_type": "markdown",
   "id": "04b29a54-c60c-4f21-aacf-60e73f9b4cab",
   "metadata": {},
   "source": [
    "# Q1. What is a database? Differentiate between SQL and NoSQL databases."
   ]
  },
  {
   "cell_type": "markdown",
   "id": "03e803bc-3e85-44d2-8889-77a1c5a1ac45",
   "metadata": {},
   "source": [
    "# Ans :"
   ]
  },
  {
   "cell_type": "markdown",
   "id": "3f48bb6c-7319-4f18-988e-34453a25d6b7",
   "metadata": {},
   "source": [
    "A database is a structured collection of data that is stored and organized for easy retrieval, manipulation, and management. It can be thought of as a digital filing system that allows users to store and access data in a variety of formats, including text, images, videos, and more. Databases are used in a wide range of applications, including business, science, medicine, education, and more.\n",
    "\n",
    "SQL (Structured Query Language) databases and NoSQL (Not only SQL) databases are two different types of database management systems that are used to store and manage data.\n",
    "\n",
    "SQL databases are relational databases that are based on a structured data model. They use tables to store data and rely on a predefined schema to ensure that data is organized in a consistent way. SQL databases are typically used in applications that require complex transactions, such as banking, financial services, and e-commerce. SQL databases use a query language called SQL to retrieve and manipulate data.\n",
    "\n",
    "NoSQL databases, on the other hand, are non-relational databases that do not use a predefined schema. Instead, they use a flexible data model that allows data to be stored in a variety of formats, including key-value pairs, document-oriented, column-oriented, and more. NoSQL databases are typically used in applications that require high scalability, such as social media, gaming, and online advertising. NoSQL databases use a variety of query languages, including JSON, MongoDB, Cassandra, and more.\n",
    "\n",
    "In summary, SQL databases use a structured data model and a predefined schema to store data, while NoSQL databases use a flexible data model and do not require a predefined schema. SQL databases are typically used in applications that require complex transactions, while NoSQL databases are typically used in applications that require high scalability."
   ]
  },
  {
   "cell_type": "markdown",
   "id": "5c130492-44dc-4556-a454-c111634cd2ef",
   "metadata": {},
   "source": [
    "# Q2. What is DDL? Explain why CREATE, DROP, ALTER, and TRUNCATE are used with an example."
   ]
  },
  {
   "cell_type": "markdown",
   "id": "57639535-e2de-45c1-abf2-677d4136c986",
   "metadata": {},
   "source": [
    "# Ans :"
   ]
  },
  {
   "cell_type": "markdown",
   "id": "6b85d928-e188-4df5-b740-5961cd275d43",
   "metadata": {},
   "source": [
    "DDL stands for Data Definition Language, which is a set of SQL commands used to define and manage the structure of a database. DDL statements are used to create, modify, and delete database objects such as tables, views, indexes, and more.\n",
    "\n",
    "Here are some common DDL commands and their explanations:\n",
    "\n",
    "## CREATE: The CREATE command is used to create a new database object, such as a table or view. For example, to create a new table named \"employees\" with columns for employee ID, name, and department, you would use the following SQL command:"
   ]
  },
  {
   "cell_type": "code",
   "execution_count": 25,
   "id": "993bc6f4-fad5-4c39-8736-d0e67d5e13b9",
   "metadata": {},
   "outputs": [],
   "source": [
    "CREATE TABLE employees (\n",
    "  id INT PRIMARY KEY,\n",
    "  name VARCHAR(50),\n",
    "  age INT,\n",
    "  salary DECIMAL(10,2)\n",
    ");"
   ]
  },
  {
   "cell_type": "markdown",
   "id": "7e16215c-8722-4dea-9a37-8e7735e8625e",
   "metadata": {},
   "source": [
    "## DROP: The DROP command is used to delete an existing database object. For example, to delete the \"employees\" table that was created in the previous example, you would use the following SQL command:"
   ]
  },
  {
   "cell_type": "code",
   "execution_count": 23,
   "id": "aa969560-da15-4dc6-aad1-7cfe4fad3fd1",
   "metadata": {},
   "outputs": [],
   "source": [
    "DROP TABLE employees;"
   ]
  },
  {
   "cell_type": "markdown",
   "id": "98cc622d-768d-4059-90b2-a8ea0dae6d27",
   "metadata": {},
   "source": [
    "## ALTER: The ALTER command is used to modify the structure of an existing database object. For example, to add a new column named \"salary\" to the \"employees\" table, you would use the following SQL command:"
   ]
  },
  {
   "cell_type": "code",
   "execution_count": 26,
   "id": "a5306fff-83e8-43ad-b2d9-0b9f3c5e7741",
   "metadata": {},
   "outputs": [],
   "source": [
    "ALTER TABLE employees ADD COLUMN department VARCHAR(50);"
   ]
  },
  {
   "cell_type": "markdown",
   "id": "8883f8db-8e96-455c-bab7-5216479529f7",
   "metadata": {},
   "source": [
    "## TRUNCATE: The TRUNCATE command is used to delete all the data from a table. Unlike the DROP command, TRUNCATE does not delete the table itself, only the data in it. For example, to delete all the data from the \"employees\" table, you would use the following SQL command:"
   ]
  },
  {
   "cell_type": "code",
   "execution_count": null,
   "id": "84ec6b3a-c3a9-45ee-b728-7ac83f2dec80",
   "metadata": {},
   "outputs": [],
   "source": [
    "TRUNCATE TABLE employees;"
   ]
  },
  {
   "cell_type": "markdown",
   "id": "4a5d7a74-b759-43b3-af0c-ee977c9e326d",
   "metadata": {},
   "source": [
    "# Q3. What is DML? Explain INSERT, UPDATE, and DELETE with an example."
   ]
  },
  {
   "cell_type": "markdown",
   "id": "b3a072f6-0b43-49b0-8e4c-361dae8be804",
   "metadata": {},
   "source": [
    "# Ans :"
   ]
  },
  {
   "cell_type": "markdown",
   "id": "5df673c8-28dc-44bc-9cba-3d91b46f4cc4",
   "metadata": {},
   "source": [
    "DML stands for Data Manipulation Language, which is a subset of SQL (Structured Query Language) used to manipulate data stored in the database. DML statements are used to insert, update, and delete data from tables.\n",
    "\n",
    "Here are some examples of commonly used DML statements:\n",
    "\n",
    "## INSERT: The INSERT statement is used to add new data into a table.For example, the following SQL statement inserts a new row into a table named \"customers\" with three columns: id, name, and email."
   ]
  },
  {
   "cell_type": "code",
   "execution_count": null,
   "id": "38d7cbb6-6206-48f0-8514-31d0f9b3c43e",
   "metadata": {},
   "outputs": [],
   "source": [
    "INSERT INTO customers (id, name, email) VALUES (1, 'John Doe', 'john@example.com');\n"
   ]
  },
  {
   "cell_type": "markdown",
   "id": "6f4a2007-6e5d-4fc2-a9aa-cf4fe496ca48",
   "metadata": {},
   "source": [
    "## UPDATE: The UPDATE statement is used to modify existing data in a table.For example, the following SQL statement updates the email address of a customer with an ID of 1:"
   ]
  },
  {
   "cell_type": "code",
   "execution_count": null,
   "id": "ea84e281-ba86-451e-b2b1-368b0a9d9e98",
   "metadata": {},
   "outputs": [],
   "source": [
    "UPDATE customers SET email = 'johndoe@example.com' WHERE id = 1;\n"
   ]
  },
  {
   "cell_type": "markdown",
   "id": "8470d551-d6b9-4643-a0e1-e2c5e0703bbc",
   "metadata": {},
   "source": [
    "## DELETE: The DELETE statement is used to remove data from a table.For example, the following SQL statement deletes a row from the \"customers\" table where the ID is 2:"
   ]
  },
  {
   "cell_type": "code",
   "execution_count": null,
   "id": "0400b5e0-3b4a-4c6a-8b9a-ebf69579fd96",
   "metadata": {},
   "outputs": [],
   "source": [
    "DELETE FROM customers WHERE id = 2;"
   ]
  },
  {
   "cell_type": "markdown",
   "id": "65a7e247-734b-4157-bc14-08192bf23ece",
   "metadata": {},
   "source": [
    "# Q4. What is DQL? Explain SELECT with an example."
   ]
  },
  {
   "cell_type": "markdown",
   "id": "0f77b5ad-15d3-442f-b8ff-04407319e92c",
   "metadata": {},
   "source": [
    "# Ans :"
   ]
  },
  {
   "cell_type": "markdown",
   "id": "7bf389d5-77aa-4a69-904f-181de6a01812",
   "metadata": {},
   "source": [
    "DQL stands for Data Query Language, which is a subset of SQL (Structured Query Language) used to query data stored in tables. DQL statements are used to retrieve data from tables and display it to the user.\n",
    "\n",
    "The most commonly used DQL statement is the SELECT statement, which is used to retrieve data from one or more tables based on a set of criteria. Here is an example of how to use the SELECT statement:\n",
    "\n",
    "Assume we have a table named \"students\" with columns \"id\", \"name\", \"age\", and \"grade\". We can retrieve all the data from this table using the following SELECT statement:"
   ]
  },
  {
   "cell_type": "code",
   "execution_count": null,
   "id": "5cff62ed-b921-48b7-8e07-35bf308909af",
   "metadata": {},
   "outputs": [],
   "source": [
    "SELECT * FROM students;\n"
   ]
  },
  {
   "cell_type": "markdown",
   "id": "7c4a950f-b03e-4d67-872a-eea87bd5d172",
   "metadata": {},
   "source": [
    "This statement retrieves all the columns and rows from the \"students\" table. The asterisk (*) is used to select all columns. If we only want to retrieve specific columns, we can list them after the SELECT keyword.This statement retrieves only the \"id\", \"name\", and \"grade\" columns from the \"students\" table."
   ]
  },
  {
   "cell_type": "code",
   "execution_count": null,
   "id": "a8512f07-a414-446b-856e-609b44b9c1f6",
   "metadata": {},
   "outputs": [],
   "source": [
    "SELECT id, name, grade FROM students;\n"
   ]
  },
  {
   "cell_type": "markdown",
   "id": "84689c7b-4a9b-4710-b2d7-4d5d86e209bb",
   "metadata": {},
   "source": [
    "We can also add conditions to the SELECT statement to retrieve specific rows based on certain criteria. For example, if we only want to retrieve students with a grade of \"A\", we can add a WHERE clause to the SELECT statement:"
   ]
  },
  {
   "cell_type": "code",
   "execution_count": null,
   "id": "f0fcc1e0-ce19-4e32-9c3b-76f880b89c29",
   "metadata": {},
   "outputs": [],
   "source": [
    "SELECT id, name, grade FROM students WHERE grade = 'A';\n"
   ]
  },
  {
   "cell_type": "markdown",
   "id": "53319307-9117-45cb-8c7e-33af05cee2a4",
   "metadata": {},
   "source": [
    "This statement retrieves only the \"id\", \"name\", and \"grade\" columns from the \"students\" table where the grade is equal to \"A\"."
   ]
  },
  {
   "cell_type": "markdown",
   "id": "b42b8583-7fb0-40da-b4df-5d6f4b7e152d",
   "metadata": {},
   "source": [
    "# Q5. Explain Primary Key and Foreign Key."
   ]
  },
  {
   "cell_type": "markdown",
   "id": "5dc74656-d6f7-4b4a-8926-edc9ddda5ed5",
   "metadata": {},
   "source": [
    "# Ans :"
   ]
  },
  {
   "cell_type": "markdown",
   "id": "94b5eb27-99da-487e-b82b-c2b45d7a4b95",
   "metadata": {},
   "source": [
    "In relational databases, primary keys and foreign keys are used to establish relationships between tables.\n",
    "\n",
    "A primary key is a column or group of columns in a table that uniquely identifies each row in that table. It must be unique, non-null, and cannot be changed once it has been set. Each table in a database should have a primary key to ensure data integrity and consistency.\n",
    "\n",
    "For example, consider a table named \"students\" with columns \"id\", \"name\", \"age\", and \"grade\". We can set the \"id\" column as the primary key for this table, which will ensure that each student in the table has a unique ID.\n",
    "\n",
    "A foreign key is a column or group of columns in a table that refers to the primary key of another table. It establishes a link between two tables, where one table (the \"child\" table) references the primary key of another table (the \"parent\" table).\n",
    "\n",
    "For example, consider a second table named \"grades\" with columns \"id\", \"student_id\", and \"subject\". We can set the \"student_id\" column as a foreign key that references the \"id\" column in the \"students\" table. This will establish a relationship between the two tables, where each row in the \"grades\" table is associated with a particular student in the \"students\" table.\n",
    "\n",
    "By using foreign keys, we can create relationships between tables that allow us to query data from multiple tables at once, ensuring data consistency and reducing redundancy.\n"
   ]
  },
  {
   "cell_type": "markdown",
   "id": "70c19468-8da6-464c-b325-cc7bcef43233",
   "metadata": {},
   "source": [
    "# Q6. Write a python code to connect MySQL to python. Explain the cursor() and execute() method."
   ]
  },
  {
   "cell_type": "markdown",
   "id": "4439d72f-7398-46b7-a4bc-6561d44654a2",
   "metadata": {},
   "source": [
    "# Ans :"
   ]
  },
  {
   "cell_type": "code",
   "execution_count": null,
   "id": "24b5c675-0e94-4805-8eca-cd46d6865f85",
   "metadata": {},
   "outputs": [],
   "source": [
    "import mysql.connector\n",
    "\n",
    "# establish database connection\n",
    "mydb = mysql.connector.connect(\n",
    "  host=\"localhost\",\n",
    "  user=\"yourusername\",\n",
    "  password=\"yourpassword\",\n",
    "  database=\"yourdatabase\"\n",
    ")\n",
    "\n",
    "# create cursor object\n",
    "mycursor = mydb.cursor()\n",
    "\n",
    "# execute SQL query\n",
    "mycursor.execute(\"SELECT * FROM customers\")\n",
    "\n",
    "# fetch all rows\n",
    "myresult = mycursor.fetchall()\n",
    "\n",
    "# print the rows\n",
    "for row in myresult:\n",
    "  print(row)\n"
   ]
  },
  {
   "cell_type": "markdown",
   "id": "e2419a7d-d5eb-421d-9e58-8db30c1a9136",
   "metadata": {},
   "source": [
    "In this code, we first import the mysql.connector library and use it to establish a connection to a MySQL database. We then create a cursor object using the cursor() method, which allows us to execute SQL queries on the database.\n",
    "\n",
    "The execute() method is used to execute a SQL query. In this example, we execute a SELECT statement to retrieve all the rows from a table named \"customers\". After executing the query, we use the fetchall() method to retrieve all the rows that were returned by the query.\n",
    "\n",
    "Finally, we print the rows using a for loop.\n",
    "\n",
    "The cursor() method returns a cursor object that is used to execute SQL queries and fetch the results. The execute() method is called on the cursor object and takes a SQL query as its argument. It is used to execute the query and returns no values.\n",
    "\n",
    "In summary, the cursor() method creates a cursor object, and the execute() method is used to execute SQL queries on the database using the cursor object.\n"
   ]
  },
  {
   "cell_type": "markdown",
   "id": "ed5f520e-7c04-4a6f-97ae-b1a705c41493",
   "metadata": {},
   "source": [
    "# Q7. Give the order of execution of SQL clauses in an SQL query."
   ]
  },
  {
   "cell_type": "markdown",
   "id": "645fab66-1f39-448c-9f97-f1a02dbf286d",
   "metadata": {},
   "source": [
    "# Ans :"
   ]
  },
  {
   "cell_type": "markdown",
   "id": "54899b3b-14fb-419d-8bdb-d31f2dc5eb23",
   "metadata": {},
   "source": [
    "The order of execution of SQL clauses in an SQL query is as follows:\n",
    "\n",
    "1.FROM: This clause specifies the table or tables from which the data is being retrieved.\n",
    "\n",
    "2.JOIN: If there are any join operations to be performed, they are executed next. JOIN is used to combine rows from two or more tables based on a related column between them.\n",
    "\n",
    "3.WHERE: This clause is used to filter the rows returned by the query based on a specified condition.\n",
    "\n",
    "4.GROUP BY: If the query includes any aggregate functions (such as SUM or AVG), this clause is used to group the rows into sets based on the specified columns.\n",
    "\n",
    "5.HAVING: This clause is used to filter the groups returned by the GROUP BY clause based on a specified condition.\n",
    "\n",
    "6.SELECT: This clause specifies the columns to be retrieved from the table or tables.\n",
    "\n",
    "7.DISTINCT: If the query includes the DISTINCT keyword, duplicates are removed from the result set.\n",
    "\n",
    "8.ORDER BY: This clause is used to sort the result set based on one or more columns.\n",
    "\n",
    "9.LIMIT: This clause is used to limit the number of rows returned by the query.\n",
    "\n",
    "Note that not all of these clauses are required in every SQL query, and the order of execution may vary depending on the specific query being executed. However, this is the general order in which the clauses are executed when they are included in a query.\n"
   ]
  },
  {
   "cell_type": "code",
   "execution_count": null,
   "id": "09375f90-14ad-4271-bb17-e9c232cee11e",
   "metadata": {},
   "outputs": [],
   "source": []
  }
 ],
 "metadata": {
  "kernelspec": {
   "display_name": "Python 3 (ipykernel)",
   "language": "python",
   "name": "python3"
  },
  "language_info": {
   "codemirror_mode": {
    "name": "ipython",
    "version": 3
   },
   "file_extension": ".py",
   "mimetype": "text/x-python",
   "name": "python",
   "nbconvert_exporter": "python",
   "pygments_lexer": "ipython3",
   "version": "3.10.8"
  }
 },
 "nbformat": 4,
 "nbformat_minor": 5
}
